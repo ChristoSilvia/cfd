{
 "metadata": {
  "name": "",
  "signature": "sha256:2598fd6b1d895cf2fce73861698b85efed3c7eb8cad2e2d69135c5da5eb65b4d"
 },
 "nbformat": 3,
 "nbformat_minor": 0,
 "worksheets": [
  {
   "cells": [
    {
     "cell_type": "markdown",
     "metadata": {},
     "source": [
      "[Lorena A. Barba](http://lorenabarba.com/blog/cfd-python-12-steps-to-navier-stokes/) has made a publically available, free course on fluid dynamics!  Here, I'm going to try and tackle the first problem posed in chapter 1, which is a description of the behavior of the navier-stokes equation."
     ]
    },
    {
     "cell_type": "markdown",
     "metadata": {},
     "source": [
      "The linear homogenous navier stokes equation:\n",
      "\n",
      "$$ \\frac{\\partial u}{\\partial t} + c \\frac{\\partial u}{\\partial x} = 0 $$\n",
      "\n",
      "So, first thing to try: Separation of Variables!\n",
      "\n",
      "$$ U(x,t) = X(x)T(t) $$\n",
      "\n",
      "$$ \\partial_t U + c \\partial_x U = 0 $$\n",
      "\n",
      "$$ X T' + c X' T = 0 $$\n",
      "\n",
      "Let $w$ be a constant such that:\n",
      "$$ \\frac{T'}{T} = w = - c \\frac{X'}{X} $$\n",
      "\n",
      "Then we solve for $X(x)$ and $T(t)$ seperately.\n",
      "$$ T' = wT $$\n",
      "\n",
      "$$ T(t) = T_0 e^{w t} $$\n",
      "\n",
      "$$ X' = - \\frac{w}{c} X $$\n",
      "\n",
      "$$ X(x) = X_0 e^{ - \\frac{w}{c} x } $$\n",
      "\n",
      "So that $U(x,t) = X(x)T(t)$ is now given by:\n",
      "$$ U(x,t) = U_0 e^{ \\frac{w}{c} (ct - x) } $$\n",
      "\n",
      "But if we try to add some sane boundary conditions, such as $\\partial_x U(0,t) = 0$, then $U_0 \\frac{w}{c} = 0$.  If $w=0$, then $U(x,t) = U_0$ for all time, and if $U_0=0$, then $U(x,t)=0$ for all time.  So separation of variables fails.\n",
      "\n",
      "![sad panda](http://2.bp.blogspot.com/-GUHt080eQFY/TjjYN9dIIhI/AAAAAAAAA_g/1gnDedm2IPA/s1600/sad_panda.gif)"
     ]
    },
    {
     "cell_type": "markdown",
     "metadata": {},
     "source": [
      "Since we have failed with separation of variables, let's try a numerical method.  Let's use finite differences, and express the above as a difference equation. Let's make timesteps $\\Delta x$ and $\\Delta t$.\n",
      "\n",
      "$$ \\partial_x u(x,t) = \\frac{u(x + \\Delta x,t) - u(x,t)}{\\Delta x} $$\n",
      "\n",
      "$$ \\partial_t u(x,t) = \\frac{u(x,t + \\Delta t) - u(x,t)}{\\Delta t} $$\n",
      "\n",
      "Substituting into $$ \\frac{\\partial u}{\\partial t} + c \\frac{\\partial u}{\\partial x} = 0 $$, and solving for $u^{n+1}_t$:\n",
      "\n",
      "$$\n",
      "u^{n+1}_i = \\left( 1 - \\frac{c \\Delta t}{\\Delta x} \\right) u^n_i + \\frac{c \\Delta t}{\\Delta x} u^n_{i-1} \n",
      "$$"
     ]
    },
    {
     "cell_type": "code",
     "collapsed": false,
     "input": [
      "import numpy as np\n",
      "import matplotlib.pyplot as plt"
     ],
     "language": "python",
     "metadata": {},
     "outputs": [],
     "prompt_number": 15
    },
    {
     "cell_type": "code",
     "collapsed": false,
     "input": [
      "# Time and space grid\n",
      "L = 2.0  # Simulate a region of space 2 units long\n",
      "nx = 41\n",
      "dx = L/(nx - 1)\n",
      "\n",
      "T = 0.5 # Run the simulation for 0.5 time units\n",
      "nt = 25\n",
      "dt = T/(nt - 1)\n",
      "\n",
      "c = 1. # propagation speed of 1 \n",
      "\n",
      "u0 = np.ones(nx)\n",
      "u0[.5/dx : 1./dx] = 2.\n",
      "plt.title(\"Initial conditions\")\n",
      "plt.plot(u0)"
     ],
     "language": "python",
     "metadata": {},
     "outputs": [
      {
       "metadata": {},
       "output_type": "pyout",
       "prompt_number": 49,
       "text": [
        "[<matplotlib.lines.Line2D at 0xafb191ec>]"
       ]
      },
      {
       "metadata": {},
       "output_type": "display_data",
       "png": "[encoded data removed]",
       "text": [
        "<matplotlib.figure.Figure at 0xafbbe5ec>"
       ]
      }
     ],
     "prompt_number": 49
    },
    {
     "cell_type": "code",
     "collapsed": false,
     "input": [
      "u = np.copy(u0)\n",
      "un = np.ones(nx)\n",
      "ksi = c * dt / dx\n",
      "\n",
      "for n in range(nt):\n",
      "    un = u.copy()\n",
      "    for x in range(1,nx):\n",
      "        u[x] = un[x] * (1 - ksi) + un[x-1] * ksi\n",
      "        \n",
      "plt.title(\"Finite Difference after 0.5 time units\")\n",
      "plt.plot(u0)\n",
      "plt.plot(u)"
     ],
     "language": "python",
     "metadata": {},
     "outputs": [
      {
       "metadata": {},
       "output_type": "pyout",
       "prompt_number": 53,
       "text": [
        "[<matplotlib.lines.Line2D at 0xaf908f2c>]"
       ]
      },
      {
       "metadata": {},
       "output_type": "display_data",
       "png": "[encoded data removed]",
       "text": [
        "<matplotlib.figure.Figure at 0xafb00c4c>"
       ]
      }
     ],
     "prompt_number": 53
    },
    {
     "cell_type": "markdown",
     "metadata": {},
     "source": [
      "Why does it spread out like that?  Is that numerical error, or part of the behavior of the system?  Let's try solving the linear homogenous navier-stokes equation with a fourier transform to see which one.  Let $\\widehat{u}$ denote the space fourier transform of u.\n",
      "\n",
      "Recall $\\widehat{u_x} = - 2 \\pi i \\xi \\widehat{u}$, and $\\widehat{u_t} = \\widehat{u}_t$.  When both sides are fourier-transformed, the equation becomes \n",
      "$$\\widehat{u}_t = - 2 \\pi i \\xi c \\widehat{u}$$\n",
      "\n",
      "an ODE which has the solution \n",
      "$$ \\widehat{u(\\xi,t)} = \\widehat{u(\\xi,0)} e^{ - 2 \\pi i \\xi (ct) }$$.\n",
      "\n",
      "So, in order to find $u(x,t)$, one merely needs to:\n",
      "* Compute the fourier transform of $u0(x)$ the initial conditions, $\\widehat{u0(\\xi)}$.\n",
      "* Multiply $\\widehat{u0(\\xi)}$ by $ e^{ - 2 \\pi i \\xi (ct) } $.\n",
      "* Find the inverse fourier transform of the above product.\n",
      "\n",
      "Here is some python code which implements the above procedure."
     ]
    },
    {
     "cell_type": "code",
     "collapsed": false,
     "input": [
      "def u(u0,t):\n",
      "    uhat0 = np.fft.fft(u0)\n",
      "    freqs = np.fft.fftfreq(len(u0), dx) # the xi's\n",
      "    time_factor = np.exp( -2*np.pi*(0+1j)*(c*t)*freqs)\n",
      "    uhatf = uhat0 * time_factor\n",
      "    return np.fft.ifft(uhatf)\n",
      "    \n",
      "plt.title(\"Analytic Fourier Method after 0.5 time units\")\n",
      "plt.plot(u0)\n",
      "plt.plot(np.real(u(u0,0.5)))"
     ],
     "language": "python",
     "metadata": {},
     "outputs": [
      {
       "metadata": {},
       "output_type": "pyout",
       "prompt_number": 56,
       "text": [
        "[<matplotlib.lines.Line2D at 0xaf8b1d4c>]"
       ]
      },
      {
       "metadata": {},
       "output_type": "display_data",
       "png": "[encoded data removed]",
       "text": [
        "<matplotlib.figure.Figure at 0xafa207cc>"
       ]
      }
     ],
     "prompt_number": 56
    },
    {
     "cell_type": "markdown",
     "metadata": {},
     "source": [
      "We can see that in the analytic solution, the rectangle shape does _not_ spread out.  The spreading out is thus numerical error from the finite difference approximation."
     ]
    },
    {
     "cell_type": "code",
     "collapsed": false,
     "input": [],
     "language": "python",
     "metadata": {},
     "outputs": []
    }
   ],
   "metadata": {}
  }
 ]
}